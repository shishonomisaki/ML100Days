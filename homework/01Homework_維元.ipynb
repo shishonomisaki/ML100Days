{
 "cells": [
  {
   "cell_type": "markdown",
   "metadata": {
    "id": "P6xk2_jLsvFF"
   },
   "source": [
    "# [作業目標]\n",
    "\n",
    "1. [簡答題] 請問下列兩種將 Array 轉換成 List 的方式有何不同？\n",
    "\n",
    "```\n",
    "print('list(a): ', list(a))\n",
    "print('tolist(): ', a.tolist())\n",
    "```\n",
    "\n",
    "2. 請試著在程式中印出以下三個 NdArray 的屬性？（屬性：ndim、shape、size、dtype、itemsize、length、type）\n",
    "\n",
    "```\n",
    "a = np.random.randint(10, size=6) \n",
    "b = np.random.randint(10, size=(3,4)) \n",
    "c = np.random.randint(10, size=(2,3,2)) \n",
    "```\n",
    "\n",
    "3. 如何利用 list(...) 實現 a.tolist() 的效果？試著用程式實作。\n"
   ]
  },
  {
   "cell_type": "markdown",
   "metadata": {
    "id": "uXGll28asvFS"
   },
   "source": [
    "# 作業 "
   ]
  },
  {
   "cell_type": "markdown",
   "metadata": {
    "id": "SYkvkp9YLwB7"
   },
   "source": [
    "### 1. [簡答題] 請問下列兩種將 Array 轉換成 List 的方式有何不同？\n",
    "\n",
    "```\n",
    "print('list(a): ', list(a))\n",
    "print('tolist(): ', a.tolist())\n",
    "```\n"
   ]
  },
  {
   "cell_type": "code",
   "execution_count": 50,
   "metadata": {
    "id": "5QrYoyNWsvFS",
    "outputId": "13f374d0-6f1b-47aa-bbac-c7d1a8c6995c"
   },
   "outputs": [
    {
     "name": "stdout",
     "output_type": "stream",
     "text": [
      "list(a):  [4, 4, 0, 1, 1, 4]\n",
      "type:  <class 'list'>\n",
      "元素type:  <class 'numpy.int32'>\n",
      "-----------------------\n",
      "a.tolist():  [4, 4, 0, 1, 1, 4]\n",
      "type:  <class 'list'>\n",
      "元素type:  <class 'int'>\n",
      "=======================\n",
      "[4 4 0 1 1 4]\n",
      "list(a):  [4, 4, 0, 1, 1, 4]\n",
      "a.tolist [4, 4, 0, 1, 1, 4]\n",
      "-----------------------\n",
      "[[8 9]\n",
      " [4 9]\n",
      " [1 0]]\n",
      "list(b):  [array([8, 9]), array([4, 9]), array([1, 0])]\n",
      "b.tolist [[8, 9], [4, 9], [1, 0]]\n"
     ]
    }
   ],
   "source": [
    "'''\n",
    "Your Code\n",
    "'''\n",
    "import numpy as np\n",
    "\n",
    "a = np.random.randint(10, size=6)\n",
    "b = np.random.randint(10, size=6).reshape(3,2)\n",
    "\n",
    "print('list(a): ', list(a))\n",
    "print('type: ', type(list(a)))\n",
    "print('元素type: ', type(list(a)[0]))\n",
    "print('-----------------------')\n",
    "print('a.tolist(): ', a.tolist())\n",
    "print('type: ', type(a.tolist()))\n",
    "print('元素type: ', type(a.tolist()[0]))\n",
    "\n",
    "print('=======================')\n",
    "print(a)\n",
    "print('list(a): ', list(a))\n",
    "print('a.tolist', a.tolist())\n",
    "print('-----------------------')\n",
    "print(b)\n",
    "print('list(b): ', list(b))\n",
    "print('b.tolist', b.tolist())"
   ]
  },
  {
   "cell_type": "markdown",
   "metadata": {},
   "source": [
    "list只將陣列中的第一個維度進行列表化(每個元素仍是陣列)；\n",
    "tolist()將陣列中的數據全都列出(每個元素都是列表)"
   ]
  },
  {
   "cell_type": "markdown",
   "metadata": {
    "id": "AC9wUCyALwB9"
   },
   "source": [
    "### 2. 請試著在程式中印出以下三個 NdArray 的屬性並且解釋結果？（屬性：ndim、shape、size、dtype、itemsize、length、type）\n",
    "\n",
    "```\n",
    "a = np.random.randint(10, size=6) \n",
    "b = np.random.randint(10, size=(3,4)) \n",
    "c = np.random.randint(10, size=(2,3,2)) \n",
    "```\n",
    "```\n",
    "ndim維度、shape形狀、size大小、dtype資料型態、\n",
    "itemsize元素佔用空間、length元素長度、type物件型態\n",
    "```"
   ]
  },
  {
   "cell_type": "code",
   "execution_count": 37,
   "metadata": {
    "id": "4qARRsdtLwB-"
   },
   "outputs": [
    {
     "name": "stdout",
     "output_type": "stream",
     "text": [
      "------array a-------\n",
      "[6 7 0 3 2 2]\n",
      "ndim:  1\n",
      "shape:  (6,)\n",
      "size:  6\n",
      "dtype:  int32\n",
      "itemsize:  4\n",
      "length:  6\n",
      "type:  <class 'numpy.ndarray'>\n"
     ]
    }
   ],
   "source": [
    "# 記得先 Import 正確的套件\n",
    "\n",
    "'''\n",
    "Your Code\n",
    "'''\n",
    "import numpy as np\n",
    "\n",
    "a = np.random.randint(10, size=6) \n",
    "\n",
    "print('------array a-------')\n",
    "print(a)\n",
    "\n",
    "print('ndim: ', a.ndim)\n",
    "print('shape: ', a.shape)\n",
    "print('size: ', a.size)\n",
    "print('dtype: ', a.dtype)\n",
    "print('itemsize: ', a.itemsize)\n",
    "print('length: ', len(a))\n",
    "print('type: ', type(a))"
   ]
  },
  {
   "cell_type": "code",
   "execution_count": 40,
   "metadata": {},
   "outputs": [
    {
     "name": "stdout",
     "output_type": "stream",
     "text": [
      "------array b-------\n",
      "[[2 0 6 4]\n",
      " [6 6 3 7]\n",
      " [4 4 8 5]]\n",
      "ndim:  2\n",
      "shape:  (3, 4)\n",
      "size:  12\n",
      "dtype:  int32\n",
      "itemsize:  4\n",
      "length:  3\n",
      "type:  <class 'numpy.ndarray'>\n"
     ]
    }
   ],
   "source": [
    "b = np.random.randint(10, size=(3,4)) \n",
    "\n",
    "print('------array b-------')\n",
    "print(b)\n",
    "\n",
    "print('ndim: ', b.ndim)\n",
    "print('shape: ', b.shape)\n",
    "print('size: ', b.size)\n",
    "print('dtype: ', b.dtype)\n",
    "print('itemsize: ', b.itemsize)\n",
    "print('length: ', len(b))\n",
    "print('type: ', type(b))"
   ]
  },
  {
   "cell_type": "code",
   "execution_count": 43,
   "metadata": {},
   "outputs": [
    {
     "name": "stdout",
     "output_type": "stream",
     "text": [
      "------array c-------\n",
      "[[[8 4]\n",
      "  [5 9]\n",
      "  [6 0]]\n",
      "\n",
      " [[4 4]\n",
      "  [9 2]\n",
      "  [9 2]]]\n",
      "ndim:  3\n",
      "shape:  (2, 3, 2)\n",
      "size:  12\n",
      "dtype:  int32\n",
      "itemsize:  4\n",
      "length:  2\n",
      "type:  <class 'numpy.ndarray'>\n"
     ]
    }
   ],
   "source": [
    "c = np.random.randint(10, size=(2,3,2)) \n",
    "\n",
    "print('------array c-------')\n",
    "print(c)\n",
    "\n",
    "print('ndim: ', c.ndim)\n",
    "print('shape: ', c.shape)\n",
    "print('size: ', c.size)\n",
    "print('dtype: ', c.dtype)\n",
    "print('itemsize: ', c.itemsize)\n",
    "print('length: ', len(c))\n",
    "print('type: ', type(c))"
   ]
  },
  {
   "cell_type": "code",
   "execution_count": null,
   "metadata": {
    "id": "e1gVI0tvsvFY",
    "outputId": "9be10770-9042-40c8-c4bc-217b84be9fc9"
   },
   "outputs": [
    {
     "name": "stdout",
     "output_type": "stream",
     "text": [
      "[1 1 2 0 1 6]\n",
      "1\n",
      "(6,)\n",
      "6\n",
      "int64\n",
      "8\n",
      "6\n",
      "<class 'numpy.ndarray'>\n"
     ]
    }
   ],
   "source": [
    "\n",
    "a = np.random.randint(10, size=6) \n",
    "\n",
    "'''\n",
    "Your Code\n",
    "'''"
   ]
  },
  {
   "cell_type": "code",
   "execution_count": null,
   "metadata": {
    "id": "iIJrIr7kLwB_",
    "outputId": "083c5519-394c-404e-9764-100c4ed5118a"
   },
   "outputs": [
    {
     "name": "stdout",
     "output_type": "stream",
     "text": [
      "[[0 7 9 3]\n",
      " [8 2 7 7]\n",
      " [9 3 3 3]]\n",
      "2\n",
      "(3, 4)\n",
      "12\n",
      "int64\n",
      "8\n",
      "3\n",
      "<class 'numpy.ndarray'>\n"
     ]
    }
   ],
   "source": [
    "b = np.random.randint(10, size=(3,4)) \n",
    "\n",
    "'''\n",
    "Your Code\n",
    "'''"
   ]
  },
  {
   "cell_type": "code",
   "execution_count": null,
   "metadata": {
    "id": "98SRFh_FLwCC",
    "outputId": "dc65dfac-9ae6-49d2-f854-88eccebc2aac"
   },
   "outputs": [
    {
     "name": "stdout",
     "output_type": "stream",
     "text": [
      "[[[1 3]\n",
      "  [2 8]\n",
      "  [2 5]]\n",
      "\n",
      " [[0 0]\n",
      "  [8 0]\n",
      "  [1 6]]]\n",
      "3\n",
      "(2, 3, 2)\n",
      "12\n",
      "int64\n",
      "8\n",
      "2\n",
      "<class 'numpy.ndarray'>\n"
     ]
    }
   ],
   "source": [
    "c = np.random.randint(10, size=(2,3,2)) \n",
    "\n",
    "'''\n",
    "Your Code\n",
    "'''"
   ]
  },
  {
   "cell_type": "markdown",
   "metadata": {
    "id": "Uf6zC0QZLwCE"
   },
   "source": [
    "### 3. 如何利用 list(...) 實現 a.tolist() 的效果？試著用程式實作。\n"
   ]
  },
  {
   "cell_type": "code",
   "execution_count": 51,
   "metadata": {
    "id": "sCUzHu_BLwCF",
    "outputId": "ba9c8945-8efb-42b1-f978-2bbdda97accd"
   },
   "outputs": [
    {
     "name": "stdout",
     "output_type": "stream",
     "text": [
      "[6, 8, 0, 1, 8, 6]\n",
      "[6, 8, 0, 1, 8, 6]\n"
     ]
    }
   ],
   "source": [
    "a = np.random.randint(10, size=6) \n",
    "\n",
    "print(a.tolist())\n",
    "print(list(a))\n"
   ]
  },
  {
   "cell_type": "code",
   "execution_count": 52,
   "metadata": {
    "id": "IUkVtw8RLwCG",
    "outputId": "e39875a5-5ec7-431b-c12a-485acc167e44"
   },
   "outputs": [
    {
     "name": "stdout",
     "output_type": "stream",
     "text": [
      "[[9, 7, 9, 2], [3, 7, 0, 1], [7, 8, 6, 1]]\n",
      "[array([9, 7, 9, 2]), array([3, 7, 0, 1]), array([7, 8, 6, 1])]\n"
     ]
    }
   ],
   "source": [
    "b = np.random.randint(10, size=(3,4)) \n",
    "\n",
    "print(b.tolist())\n",
    "print(list(b))\n"
   ]
  },
  {
   "cell_type": "code",
   "execution_count": 53,
   "metadata": {
    "id": "NPhF8_CqLwCG",
    "outputId": "51fab908-5bfd-415f-9584-92bb376648c8"
   },
   "outputs": [
    {
     "name": "stdout",
     "output_type": "stream",
     "text": [
      "[[[1, 3], [7, 4], [8, 5]], [[5, 5], [0, 5], [9, 6]]]\n",
      "[array([[1, 3],\n",
      "       [7, 4],\n",
      "       [8, 5]]), array([[5, 5],\n",
      "       [0, 5],\n",
      "       [9, 6]])]\n"
     ]
    }
   ],
   "source": [
    "c = np.random.randint(10, size=(2,3,2)) \n",
    "\n",
    "print(c.tolist())\n",
    "print(list(c))\n"
   ]
  },
  {
   "cell_type": "code",
   "execution_count": 54,
   "metadata": {
    "id": "3Hc8vQYtLwCH",
    "outputId": "1290bc93-84ca-4da4-eb1a-315da37afaff"
   },
   "outputs": [
    {
     "name": "stdout",
     "output_type": "stream",
     "text": [
      "[6, 8, 0, 1, 8, 6]\n",
      "[[9, 7, 9, 2], [3, 7, 0, 1], [7, 8, 6, 1]]\n",
      "[[[1, 3], [7, 4], [8, 5]], [[5, 5], [0, 5], [9, 6]]]\n"
     ]
    }
   ],
   "source": [
    "#簡單版，使用遞迴迴圈將每一層往下解\n",
    "\n",
    "def tolist(iterable):\n",
    "    if type(iterable) != np.ndarray:\n",
    "        return iterable\n",
    "    newlist = []\n",
    "    for obj in iterable:\n",
    "        newlist.append(tolist(obj))\n",
    "    return list(newlist)\n",
    "    '''\n",
    "    Your Code\n",
    "    '''\n",
    "\n",
    "print(tolist(a))\n",
    "print(tolist(b))\n",
    "print(tolist(c))"
   ]
  },
  {
   "cell_type": "code",
   "execution_count": 56,
   "metadata": {
    "id": "2lDVOwFpLwCJ",
    "outputId": "ddfa84e4-3d32-4a68-c250-f57b2f66d830"
   },
   "outputs": [
    {
     "name": "stdout",
     "output_type": "stream",
     "text": [
      "[6, 8, 0, 1, 8, 6]\n",
      "[[9, 7, 9, 2], [3, 7, 0, 1], [7, 8, 6, 1]]\n",
      "[[[1, 3], [7, 4], [8, 5]], [[5, 5], [0, 5], [9, 6]]]\n"
     ]
    }
   ],
   "source": [
    "#進階版\n",
    "\n",
    "def tolist(iterable):\n",
    "    if type(iterable) != np.ndarray:\n",
    "        return iterable\n",
    "    return [tolist(obj) for obj in iterable]\n",
    "\n",
    "print(tolist(a))\n",
    "print(tolist(b))\n",
    "print(tolist(c))"
   ]
  },
  {
   "cell_type": "code",
   "execution_count": null,
   "metadata": {},
   "outputs": [],
   "source": []
  }
 ],
 "metadata": {
  "colab": {
   "name": "01Homework_維元.ipynb",
   "provenance": []
  },
  "kernelspec": {
   "display_name": "Python 3",
   "language": "python",
   "name": "python3"
  },
  "language_info": {
   "codemirror_mode": {
    "name": "ipython",
    "version": 3
   },
   "file_extension": ".py",
   "mimetype": "text/x-python",
   "name": "python",
   "nbconvert_exporter": "python",
   "pygments_lexer": "ipython3",
   "version": "3.8.10"
  }
 },
 "nbformat": 4,
 "nbformat_minor": 1
}
